{
 "cells": [
  {
   "cell_type": "code",
   "execution_count": 2,
   "id": "dae833d8-b2f9-438e-8816-cad3326869dc",
   "metadata": {},
   "outputs": [
    {
     "name": "stdout",
     "output_type": "stream",
     "text": [
      "1\n"
     ]
    }
   ],
   "source": [
    "import pandas as pd\n",
    "from sklearn.model_selection import train_test_split\n",
    "from sklearn.preprocessing import LabelEncoder\n",
    "from tensorflow.keras.preprocessing.text import Tokenizer\n",
    "from tensorflow.keras.preprocessing.sequence import pad_sequences\n",
    "from tensorflow.keras.models import Sequential\n",
    "from tensorflow.keras.layers import Embedding, LSTM, Dense, SpatialDropout1D\n",
    "from tensorflow.keras.callbacks import EarlyStopping, ReduceLROnPlateau\n",
    "import matplotlib.pyplot as plt\n",
    "from sklearn.metrics import classification_report, confusion_matrix\n",
    "import seaborn as sns\n",
    "from tensorflow.keras.models import load_model\n",
    "print(1)"
   ]
  },
  {
   "cell_type": "code",
   "execution_count": 7,
   "id": "baeb5b17-68da-4a6e-b47a-dec46bc51281",
   "metadata": {},
   "outputs": [
    {
     "name": "stdout",
     "output_type": "stream",
     "text": [
      "1\n"
     ]
    }
   ],
   "source": [
    "df= pd.read_csv('../csv_file_data/english_dataset.csv', encoding='latin-1')\n",
    "\n",
    "\n",
    "# df_spa = pd.read_csv('filtered_final.csv', encoding='latin-1')\n",
    "# df_spa['Language'] = 'Spanish'\n",
    "\n",
    "# df = pd.concat([df_eng, df_spa], ignore_index=True)\n",
    "\n",
    "print(1)"
   ]
  },
  {
   "cell_type": "code",
   "execution_count": 8,
   "id": "0cbad9a8-abba-4a75-b5dd-ad338ae33225",
   "metadata": {},
   "outputs": [
    {
     "name": "stdout",
     "output_type": "stream",
     "text": [
      "1\n"
     ]
    }
   ],
   "source": [
    "\n",
    "# Function to clean text\n",
    "def clean_text(text):\n",
    "    if isinstance(text, str):\n",
    "        text = text.lower()  # Convert to lowercase\n",
    "        text = ''.join([char for char in text if char.isalnum() or char.isspace()])  # Remove special characters\n",
    "    else:\n",
    "        text = str(text)  # Handle NaN values by converting to string\n",
    "    return text\n",
    "\n",
    "# Clean the text data\n",
    "df['Text'] = df['Text'].apply(clean_text)\n",
    "\n",
    "# Remove rows with empty strings after cleaning\n",
    "df = df[df['Text'] != '']\n",
    "print(1)"
   ]
  },
  {
   "cell_type": "code",
   "execution_count": 10,
   "id": "a5287641-1990-4ef7-8867-8d09ffd66f7a",
   "metadata": {},
   "outputs": [
    {
     "name": "stdout",
     "output_type": "stream",
     "text": [
      "1\n"
     ]
    }
   ],
   "source": [
    "max_num_words = 10000  # Maximum number of words in the tokenizer\n",
    "max_seq_length = 100  # Maximum sequence length\n",
    "print(1)"
   ]
  },
  {
   "cell_type": "code",
   "execution_count": 11,
   "id": "3e11ab7f-b7ce-4d9c-8d57-97f689111af6",
   "metadata": {},
   "outputs": [
    {
     "name": "stdout",
     "output_type": "stream",
     "text": [
      "1\n"
     ]
    }
   ],
   "source": [
    "tokenizer = Tokenizer(num_words=max_num_words)\n",
    "tokenizer.fit_on_texts(df['Text'])\n",
    "sequences = tokenizer.texts_to_sequences(df['Text'])\n",
    "padded_sequences = pad_sequences(sequences, maxlen=max_seq_length)\n",
    "print(1)"
   ]
  },
  {
   "cell_type": "code",
   "execution_count": 13,
   "id": "f8aefabd-d05b-4908-ac5e-dd79fa8b7bc6",
   "metadata": {},
   "outputs": [
    {
     "name": "stdout",
     "output_type": "stream",
     "text": [
      "1\n"
     ]
    }
   ],
   "source": [
    "label_encoder = LabelEncoder()\n",
    "labels = label_encoder.fit_transform(df['Emotion'])\n",
    "\n",
    "# Split the data into training and validation sets\n",
    "X_train, X_val, y_train, y_val = train_test_split(padded_sequences, labels, test_size=0.2, random_state=42)\n",
    "print(1)"
   ]
  },
  {
   "cell_type": "code",
   "execution_count": 47,
   "id": "7cff347e-80b3-430c-a60a-f2d1decf9541",
   "metadata": {},
   "outputs": [
    {
     "name": "stderr",
     "output_type": "stream",
     "text": [
      "WARNING:absl:Compiled the loaded model, but the compiled metrics have yet to be built. `model.compile_metrics` will be empty until you train or evaluate the model.\n"
     ]
    },
    {
     "name": "stdout",
     "output_type": "stream",
     "text": [
      "\u001b[1m1/1\u001b[0m \u001b[32m━━━━━━━━━━━━━━━━━━━━\u001b[0m\u001b[37m\u001b[0m \u001b[1m2s\u001b[0m 2s/step\n",
      "Example Text (English): surpise\n",
      "Predicted Emotion (English): anger\n"
     ]
    }
   ],
   "source": [
    "# Load the saved model\n",
    "saved_model = load_model('english.h5')\n",
    "\n",
    "# Define the example text in English and Spanish\n",
    "example_text_eng = \"surpise\"\n",
    "\n",
    "\n",
    "# Clean and tokenize the English text\n",
    "cleaned_text_eng = clean_text(example_text_eng)\n",
    "tokenized_text_eng = tokenizer.texts_to_sequences([cleaned_text_eng])\n",
    "padded_text_eng = pad_sequences(tokenized_text_eng, maxlen=max_seq_length)\n",
    "\n",
    "# Predict the emotion for English text\n",
    "prediction_eng = saved_model.predict(padded_text_eng)\n",
    "predicted_class_eng = prediction_eng.argmax(axis=-1)[0]\n",
    "predicted_emotion_eng = label_encoder.inverse_transform([predicted_class_eng])[0]\n",
    "\n",
    "print(f'Example Text (English): {example_text_eng}')\n",
    "print(f'Predicted Emotion (English): {predicted_emotion_eng}')"
   ]
  },
  {
   "cell_type": "code",
   "execution_count": null,
   "id": "059890fd-118c-4306-a477-bd533f1bb858",
   "metadata": {},
   "outputs": [],
   "source": []
  }
 ],
 "metadata": {
  "kernelspec": {
   "display_name": "Python 3 (ipykernel)",
   "language": "python",
   "name": "python3"
  },
  "language_info": {
   "codemirror_mode": {
    "name": "ipython",
    "version": 3
   },
   "file_extension": ".py",
   "mimetype": "text/x-python",
   "name": "python",
   "nbconvert_exporter": "python",
   "pygments_lexer": "ipython3",
   "version": "3.11.7"
  }
 },
 "nbformat": 4,
 "nbformat_minor": 5
}
